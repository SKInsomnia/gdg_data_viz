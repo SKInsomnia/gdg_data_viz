{
 "cells": [
  {
   "cell_type": "markdown",
   "metadata": {},
   "source": [
    "# Data Visualization Challenge - Google Play Store 📱\n"
   ]
  },
  {
   "cell_type": "markdown",
   "metadata": {},
   "source": [
    "The goal of this challenge is to analyze a [dataset about apps and games from Google Play Store](https://www.kaggle.com/lava18/google-play-store-apps#googleplaystore.csv). Some cells are already implemented, you just need to **run** them. Some other cells need you to write some code.\n",
    "\n",
    "### Here is a quick guide on how to use this Jupyter Notebook 🤔\n",
    "\n",
    "* Type inside the empty cells to write code. These empty cells will have a `In [ ]:` prefix before\n",
    "* Press the `return/enter ⏎` key to add a new line inside the cell\n",
    "* To display your results use the Python built in `print(STUFF_YOU_WANT_TO_PRINT)` method or simply put the stuff you want to print as the last line inside the cell. The result of the last line will appear as the `Out[]:` or the output of the cell :)\n",
    "* Press `shift` + `return/enter ⏎` to run your code 🤓 this will run the code inside your currently selected cell and print anything inside `print()` method and the last line of your cell\n",
    "* To add a new cell, select any cell and press the `b` key (make sure you are not just typing the letter `b` in the cell). This will add a new cell below\n",
    "* To delete a cell, double press the `d` key (make sure you are not just typing the letter `d` in the cell)\n",
    "\n",
    "### Start the challenge by running the two following cells:"
   ]
  },
  {
   "cell_type": "code",
   "execution_count": null,
   "metadata": {},
   "outputs": [],
   "source": [
    "# we will need these libraries to run our analytics and visualisation\n",
    "import numpy as np\n",
    "import pandas as pd\n",
    "import seaborn as sns\n",
    "import matplotlib.pyplot as plt"
   ]
  },
  {
   "cell_type": "code",
   "execution_count": null,
   "metadata": {},
   "outputs": [],
   "source": [
    "# we will read the CSV file into a DataFrame - the format that we can easily analyze and manipulate in Python\n",
    "apps_df = pd.read_csv(\"data/googleplaystore.csv\")"
   ]
  },
  {
   "cell_type": "markdown",
   "metadata": {},
   "source": [
    "### 👀 Feel free to have a quick glance at the data - `.shape`, `.columns`, `.head()`, `.tail()`, `.dtypes` \n",
    "<br>\n",
    "\n",
    "<details>\n",
    "    <summary>Not sure how? Reveal some tips 🙈</summary>\n",
    "\n",
    "<p> \n",
    "<pre>\n",
    "apps_df.shape\n",
    "apps_df.columns\n",
    "apps_df.head() # you can add a number in parentheses for how many first rows you want to display\n",
    "apps_df.dtypes\n",
    "</pre>\n",
    "</details>"
   ]
  },
  {
   "cell_type": "code",
   "execution_count": null,
   "metadata": {},
   "outputs": [],
   "source": [
    "# your code here"
   ]
  },
  {
   "cell_type": "markdown",
   "metadata": {},
   "source": [
    "----------"
   ]
  },
  {
   "cell_type": "markdown",
   "metadata": {},
   "source": [
    "### 🧹 You might have noticed, we have some cleaning to do on our DataFrame "
   ]
  },
  {
   "cell_type": "markdown",
   "metadata": {},
   "source": [
    "First of all let's see how many empty values are there in our DataFrame using the [DataFrame.isnull().sum() methods](https://pandas.pydata.org/pandas-docs/stable/reference/api/pandas.DataFrame.isnull.html)\n",
    "\n",
    "<br>\n",
    "\n",
    "<details>\n",
    "    <summary>Not sure how? Click to see solution 🙈</summary>\n",
    "\n",
    "<p> \n",
    "<pre>\n",
    "apps_df.isnull().sum()\n",
    "</pre>\n",
    "</details>"
   ]
  },
  {
   "cell_type": "code",
   "execution_count": null,
   "metadata": {},
   "outputs": [],
   "source": [
    "# your code here"
   ]
  },
  {
   "cell_type": "markdown",
   "metadata": {},
   "source": [
    "You'll notice there is one column that is particularly full of `null` values. Let's go ahead and overwrite those with a rating of `0.0`.\n",
    "\n",
    "\n",
    "<br>\n",
    "\n",
    "<details>\n",
    "    <summary>Not sure how? Click to see solution 🙈</summary>\n",
    "\n",
    "\n",
    "<p>The \"Rating\" column has over 10% null values - this will mess up our analysis and visualisation later. Let's use the <a href=\"https://pandas.pydata.org/pandas-docs/stable/reference/api/pandas.DataFrame.fillna.html\">Pandas.DataFrame.fillna()</a> method to fix that.</p>\n",
    "<pre>\n",
    "apps_df.fillna({'Rating': 0.0}, inplace=True)\n",
    "</pre>\n",
    "</details>"
   ]
  },
  {
   "cell_type": "code",
   "execution_count": null,
   "metadata": {},
   "outputs": [],
   "source": [
    "# your code here"
   ]
  },
  {
   "cell_type": "markdown",
   "metadata": {},
   "source": [
    "Let's also get rid of some columns that will not help our analysis. The more we clean and organise our data before we analyse, the more insight our visualistions will make! 🧹\n",
    "\n",
    "\n",
    "<br>\n",
    "\n",
    "<details>\n",
    "    <summary>Not sure how? Click to see solution 🙈</summary>\n",
    "\n",
    "\n",
    "<p>Let's use the <a href=\"https://pandas.pydata.org/pandas-docs/stable/reference/api/pandas.DataFrame.drop.html?highlight=drop#pandas.DataFrame.drop\">DataFrame.drop()</a> method to drop some columns like we did with AirBnB data.</p>\n",
    "<pre>\n",
    "columns_to_drop = ['Android Ver', 'Current Ver', 'Last Updated', 'Genres'] # we will use 'Category' instead of Genres\n",
    "apps_df.drop(columns_to_drop, axis=\"columns\", inplace=True)\n",
    "</pre>\n",
    "</details>"
   ]
  },
  {
   "cell_type": "code",
   "execution_count": null,
   "metadata": {},
   "outputs": [],
   "source": [
    "# your code here"
   ]
  },
  {
   "cell_type": "markdown",
   "metadata": {},
   "source": [
    "If we dig deeper, we will see that some app names are duplicated. It could have been the error of someone scraping the data, or developers trying to impersonate another app to get more downloads. In any case let's use the very handy [DataFrame.drop_duplicates()](https://www.geeksforgeeks.org/python-pandas-dataframe-drop_duplicates/) method to clean that up.\n",
    "\n",
    "\n",
    "<br>\n",
    "\n",
    "<details>\n",
    "    <summary>Not sure how? Click to see solution 🙈</summary>\n",
    "\n",
    "\n",
    "<pre>\n",
    "apps_df.drop_duplicates(subset=\"App\", keep = 'first', inplace = True) \n",
    "</pre>\n",
    "</details>"
   ]
  },
  {
   "cell_type": "code",
   "execution_count": null,
   "metadata": {},
   "outputs": [],
   "source": [
    "# your code here"
   ]
  },
  {
   "cell_type": "markdown",
   "metadata": {},
   "source": [
    "Finally there is the `Price` column, which right now has the data type `object` (or `string` as we know them). Since this is a numeric value which would be interesting to measure, let's fix that. **This one is a little tricky**, as we first need to get rid of the **$** sign.\n",
    "\n",
    "\n",
    "<br>\n",
    "\n",
    "<details>\n",
    "    <summary>Not sure how? Click to see solution 🙈</summary>\n",
    "\n",
    "\n",
    "<p>We will use the <a href=\"https://pandas.pydata.org/pandas-docs/stable/reference/api/pandas.DataFrame.drop.html?highlight=drop#pandas.DataFrame.drop\">Series.astype()</a> method to convert strings to floats, but first we need to clean up the prices a bit.</p>\n",
    "<pre>\n",
    "apps_df['Price'] = apps_df['Price'].str[1:] # getting rid of the dollar sign\n",
    "apps_df['Price'] = apps_df['Price'].replace('', '0.0') # we are replacing any empty values with 0.0\n",
    "apps_df['Price'] = apps_df['Price'].astype(float) # now we are converting each price from a string to a float\n",
    "</pre>\n",
    "</details>"
   ]
  },
  {
   "cell_type": "code",
   "execution_count": null,
   "metadata": {
    "scrolled": true
   },
   "outputs": [],
   "source": [
    "# your code here"
   ]
  },
  {
   "cell_type": "markdown",
   "metadata": {},
   "source": [
    "In the future, you might also want to clean up the `Size` column. That will require some more advanced logic - because some sizes are in kilobites and some in megabites... A fun exercise for later! 😉"
   ]
  },
  {
   "cell_type": "markdown",
   "metadata": {},
   "source": [
    "---------"
   ]
  },
  {
   "cell_type": "markdown",
   "metadata": {},
   "source": [
    "### ✨Our DataFrame is now clean and ready for us to explore"
   ]
  },
  {
   "cell_type": "markdown",
   "metadata": {},
   "source": [
    "#### Let's start with few quick [Exploratory Data Analysis](https://en.wikipedia.org/wiki/Exploratory_data_analysis) questions 🤔"
   ]
  },
  {
   "cell_type": "markdown",
   "metadata": {},
   "source": [
    "❓What are the top 5 most expensive apps on the Play Store?\n",
    "\n",
    "\n",
    "<br>\n",
    "\n",
    "<details>\n",
    "    <summary>Not sure how? Click to see solution 🙈</summary>\n",
    "\n",
    "<p> \n",
    "<pre>\n",
    "apps_df.nlargest(5, 'Price')\n",
    "</pre>\n",
    "\n",
    "</details>"
   ]
  },
  {
   "cell_type": "code",
   "execution_count": null,
   "metadata": {},
   "outputs": [],
   "source": [
    "# your code here"
   ]
  },
  {
   "cell_type": "markdown",
   "metadata": {},
   "source": [
    "❓What are the 10 most reviewed apps?\n",
    "\n",
    "\n",
    "<br>\n",
    "\n",
    "<details>\n",
    "    <summary>Not sure how? Click to see solution 🙈</summary>\n",
    "\n",
    "<p> \n",
    "<pre>\n",
    "apps_df.nlargest(10, 'Reviews')\n",
    "</pre>\n",
    "</details>"
   ]
  },
  {
   "cell_type": "code",
   "execution_count": null,
   "metadata": {},
   "outputs": [],
   "source": [
    "# your code here"
   ]
  },
  {
   "cell_type": "markdown",
   "metadata": {},
   "source": [
    "❓How many different categories of apps are there? Try not to count manually! :)\n",
    "\n",
    "\n",
    "<br>\n",
    "\n",
    "<details>\n",
    "    <summary>Not sure how? Click to see solution 🙈</summary>\n",
    "\n",
    "<p> \n",
    "<pre>\n",
    "apps_df['Category'].unique() # this gives us a list of all the categories\n",
    "len(apps_df['Category'].unique()) # this gives us the length of the list\n",
    "</pre>\n",
    "</details>"
   ]
  },
  {
   "cell_type": "code",
   "execution_count": null,
   "metadata": {},
   "outputs": [],
   "source": [
    "# your code here"
   ]
  },
  {
   "cell_type": "markdown",
   "metadata": {},
   "source": [
    "❓How many apps are there for each Content Rating?\n",
    "\n",
    "\n",
    "<br>\n",
    "\n",
    "<details>\n",
    "    <summary>Not sure how? Click to see solution 🙈</summary>\n",
    "\n",
    "<p> \n",
    "<pre>\n",
    "apps_df['Content Rating'].value_counts()\n",
    "</pre>\n",
    "</details>"
   ]
  },
  {
   "cell_type": "code",
   "execution_count": null,
   "metadata": {},
   "outputs": [],
   "source": [
    "# your code here"
   ]
  },
  {
   "cell_type": "markdown",
   "metadata": {},
   "source": [
    "❓What are the 10 categories with the most apps? Display **only** the top 10!\n",
    "\n",
    "\n",
    "<br>\n",
    "\n",
    "<details>\n",
    "    <summary>Not sure how? Click to see solution 🙈</summary>\n",
    "\n",
    "<p> \n",
    "<pre>\n",
    "apps_df['Category'].value_counts().head(10)\n",
    "</pre>\n",
    "</details>"
   ]
  },
  {
   "cell_type": "code",
   "execution_count": null,
   "metadata": {},
   "outputs": [],
   "source": [
    "# your code here"
   ]
  },
  {
   "cell_type": "markdown",
   "metadata": {},
   "source": [
    "-------"
   ]
  },
  {
   "cell_type": "markdown",
   "metadata": {},
   "source": [
    "### 🎨 Let's start visualizing - `CountPlot` for making quick bar charts"
   ]
  },
  {
   "cell_type": "markdown",
   "metadata": {},
   "source": [
    "For our first visualisations we will be using the [Seaborn Countplot](https://seaborn.pydata.org/generated/seaborn.countplot.html). \n",
    "\n",
    "Countplot is great for counting the occurence of the unique values in each column. For example, we used it for knowing how many of each apartment type are there in the AirBnB listings and even how many different types are there, without us running any extra code."
   ]
  },
  {
   "cell_type": "markdown",
   "metadata": {},
   "source": [
    "#### Let's begin! 📊"
   ]
  },
  {
   "cell_type": "markdown",
   "metadata": {},
   "source": [
    "1️⃣Let's start with a simple one - a bar chart of free versus paid apps\n",
    "\n",
    "P.S. remember the different methods you can use to explore your DataFrame - `.columns`, `.head()` and others - in case you are not sure which data points to use ;)\n",
    "\n",
    "\n",
    "<br>\n",
    "\n",
    "<details>\n",
    "    <summary>Not sure how? Click to see solution 🙈</summary>\n",
    "\n",
    "<p> \n",
    "<pre>\n",
    "sns.countplot(data=apps_df, x='Type')\n",
    "</pre>\n",
    "</details>"
   ]
  },
  {
   "cell_type": "code",
   "execution_count": null,
   "metadata": {},
   "outputs": [],
   "source": [
    "# by the way, you can add this line *before each* plot that let's you adjust the (width, height) of the chart:\n",
    "plt.figure(figsize=(10, 5))\n",
    "\n",
    "# your code here"
   ]
  },
  {
   "cell_type": "markdown",
   "metadata": {},
   "source": [
    "Note our data is heavily skewed to one `Type`. We will need to take that into account in future challenges!"
   ]
  },
  {
   "cell_type": "markdown",
   "metadata": {},
   "source": [
    "--------"
   ]
  },
  {
   "cell_type": "markdown",
   "metadata": {},
   "source": [
    "2️⃣Let's plot how many apps there are for each content rating?\n",
    "\n",
    "<br>\n",
    "\n",
    "<details>\n",
    "    <summary>Not sure how? Click to see solution 🙈</summary>\n",
    "\n",
    "<p> \n",
    "<pre>\n",
    "sns.countplot(data=apps_df, x=\"Content Rating\")\n",
    "</pre>\n",
    "</details>"
   ]
  },
  {
   "cell_type": "code",
   "execution_count": null,
   "metadata": {
    "scrolled": true
   },
   "outputs": [],
   "source": [
    "# remember, you can add this line *before each* plot that let's you adjust the (width, height) of the chart:\n",
    "plt.figure(figsize=(10, 5))\n",
    "\n",
    "# your code here"
   ]
  },
  {
   "cell_type": "markdown",
   "metadata": {},
   "source": [
    "2️⃣+ | You can notice that we can improve the **order** in which the columns are displayed. How can we do that?\n",
    "\n",
    "**Tip:** think about what is the order displayed when you did `apps_df['Content Rating'].value_counts()`\n",
    "\n",
    "<br>\n",
    "\n",
    "<details>\n",
    "    <summary>Not sure how? Click to see solution 🙈</summary>\n",
    "\n",
    "<p> \n",
    "<pre>\n",
    "order = apps_df['Content Rating'].value_counts().index # we are getting the index (or the \"order\") of our result\n",
    "sns.countplot(data=apps_df, x=\"Content Rating\", order=order) # and adding that as the order attribute to our plot\n",
    "</pre>\n",
    "</details>\n",
    "\n"
   ]
  },
  {
   "cell_type": "code",
   "execution_count": null,
   "metadata": {},
   "outputs": [],
   "source": [
    "# remember, you can add this line *before each* plot that let's you adjust the (width, height) of the chart:\n",
    "plt.figure(figsize=(10, 6))\n",
    "\n",
    "# your code here"
   ]
  },
  {
   "cell_type": "markdown",
   "metadata": {},
   "source": [
    "-------------"
   ]
  },
  {
   "cell_type": "markdown",
   "metadata": {},
   "source": [
    "3️⃣**Adding a hue**: let's add a `hue` attribute to our Countplot. For example like this `sns.countplot(data=apps_df, x='Content Rating', hue='Type')`. What does that do? Try running the cell below!"
   ]
  },
  {
   "cell_type": "code",
   "execution_count": null,
   "metadata": {},
   "outputs": [],
   "source": [
    "# remember that you can change the size of each plot; this will be helpful as our Data Visualization goes deeper\n",
    "plt.figure(figsize=(15, 6))\n",
    "sns.countplot(data=apps_df, x='Content Rating', hue='Type')"
   ]
  },
  {
   "cell_type": "markdown",
   "metadata": {},
   "source": [
    "In this dataset we don't have other small categorical data, which would be a good `hue`. But you can already imagine how this can be very useful when you are doing visualisation, as you factor in categories in your charts 🤔"
   ]
  },
  {
   "cell_type": "markdown",
   "metadata": {},
   "source": [
    "---------------"
   ]
  },
  {
   "cell_type": "markdown",
   "metadata": {},
   "source": [
    "🏋️‍ **Optional: Adding an order**: let's add a `order` attribute to our Countplot so that we can control the order of bars in our chart, as well as how many are displayed. The syntax looks like this `sns.countplot(data=apps_df, x=???, order=❓)`. First let's figure out how we get the order!"
   ]
  },
  {
   "cell_type": "markdown",
   "metadata": {},
   "source": [
    "Do you remember how you got the categories with the most apps?\n",
    "\n",
    "`apps_df['Category'].value_counts().head(5)` for example will give us a list of five categories with the most apps\n",
    "\n",
    "If we want to capture the **order** of this list we need to add the `.index` in the end, so that we store the index (or position) of each category in the list.\n",
    "\n",
    "`apps_df['Category'].value_counts().head(5).index`\n",
    "\n",
    "Feel free to give it a try!"
   ]
  },
  {
   "cell_type": "code",
   "execution_count": null,
   "metadata": {},
   "outputs": [],
   "source": [
    "order = apps_df['Category'].value_counts().head(5).index\n",
    "sns.countplot(data=apps_df, x='Category', order=order)"
   ]
  },
  {
   "cell_type": "markdown",
   "metadata": {},
   "source": [
    "Now your goal is to make a Countplot of the 10 most common amount of `Installs`!\n",
    "\n",
    "\n",
    "<br>\n",
    "\n",
    "<details>\n",
    "    <summary>Not sure how? Click to see solution 🙈</summary>\n",
    "\n",
    "<p>Tip: don't try to put everything on the same line if it's getting too long. Your code should be easy to read for you and others.</p>\n",
    "<pre>\n",
    "top_10_installs = apps_df['Installs'].value_counts().head(10)\n",
    "order = top_10_installs.index\n",
    "sns.countplot(data=apps_df, x='Installs', order=order)\n",
    "</pre>\n",
    "</details>"
   ]
  },
  {
   "cell_type": "code",
   "execution_count": null,
   "metadata": {},
   "outputs": [],
   "source": [
    "# remember that you can change the size of each plot; this will be helpful as our Data Visualization goes deeper\n",
    "plt.figure(figsize=(15, 6))\n",
    "\n",
    "# your code here"
   ]
  },
  {
   "cell_type": "markdown",
   "metadata": {},
   "source": [
    "---------"
   ]
  },
  {
   "cell_type": "markdown",
   "metadata": {},
   "source": [
    "### 🎨 Next step -  `Distplot` - a quick way to make [histograms](https://www.mathsisfun.com/data/histograms.html)"
   ]
  },
  {
   "cell_type": "markdown",
   "metadata": {},
   "source": [
    "The [Seaborn Distplot](https://seaborn.pydata.org/generated/seaborn.distplot.html) is useful for seeing how non-repetative values are distributed. This chart is particularly useful for understanding distribution of numeric values (for example, the price in our AirBnB data) or other data points which do not have standard values. Try running the cell below to make our first Distplot with the prices of the apps!"
   ]
  },
  {
   "cell_type": "code",
   "execution_count": null,
   "metadata": {},
   "outputs": [],
   "source": [
    "sns.distplot(apps_df['Price'])"
   ]
  },
  {
   "cell_type": "markdown",
   "metadata": {},
   "source": [
    "You'll notice that, same as with our AirBnB data, we have outliers that heavily skew the data. A good measure would be to check the [mean](https://pandas.pydata.org/pandas-docs/stable/reference/api/pandas.DataFrame.mean.html) of the columns to better understand our data.\n",
    "\n",
    "Let's try with `Price`!"
   ]
  },
  {
   "cell_type": "code",
   "execution_count": null,
   "metadata": {},
   "outputs": [],
   "source": [
    "apps_df['Price'].mean()"
   ]
  },
  {
   "cell_type": "markdown",
   "metadata": {},
   "source": [
    "We can see that apps overall are quite cheap, so let's create another `DataFrame` with apps that cost below 10USD. \n",
    "\n",
    "For that we will need to use **Boolean Filtering!**"
   ]
  },
  {
   "cell_type": "code",
   "execution_count": null,
   "metadata": {
    "scrolled": true
   },
   "outputs": [],
   "source": [
    "low_price = apps_df['Price'] < 10\n",
    "cheaper_apps_df = apps_df[low_price]\n",
    "cheaper_apps_df = cheaper_apps_df[cheaper_apps_df['Price'] > 0] # let's also get rid of the free apps for skewed results\n"
   ]
  },
  {
   "cell_type": "markdown",
   "metadata": {},
   "source": [
    "We are now ready for a more realistic `distplot`! Go ahead and make one using the `cheaper_apps_df` DataFrame\n",
    "\n",
    "\n",
    "<br>\n",
    "\n",
    "<details>\n",
    "    <summary>Not sure how? Click to see solution 🙈</summary>\n",
    "\n",
    "\n",
    "<pre>\n",
    "sns.distplot(cheaper_apps_df['Price'])\n",
    "</pre>\n",
    "</details>"
   ]
  },
  {
   "cell_type": "code",
   "execution_count": null,
   "metadata": {},
   "outputs": [],
   "source": [
    "# your code here"
   ]
  },
  {
   "cell_type": "markdown",
   "metadata": {},
   "source": [
    "Try out your own Distplots by changing to other numeric columns! `Rating` can be a good option!"
   ]
  },
  {
   "cell_type": "code",
   "execution_count": null,
   "metadata": {},
   "outputs": [],
   "source": [
    "# your code here"
   ]
  },
  {
   "cell_type": "markdown",
   "metadata": {},
   "source": [
    "-----"
   ]
  },
  {
   "cell_type": "markdown",
   "metadata": {},
   "source": [
    "### 🎨 Onto to the `ViolinPlot` - a chart for analysing grouped distribution"
   ]
  },
  {
   "cell_type": "markdown",
   "metadata": {},
   "source": [
    "We want to use the [Seaborn Violinplot](https://seaborn.pydata.org/generated/seaborn.violinplot.html) when we want to see distribution not only across our general DataFrame, but grouped by a category column (for example, prices by apartment type on AirBnB). This is useful for understanding the effect of different factors on a datapoint in question.\n",
    "\n",
    "The typical syntax for a Violinplot is `sns.violinplot(data=❓, x=❓, y=❓)`. For `data` we suggest using the `cheaper_apps_df` DataFrame for most of your analysis, so that we have a more fairly distributed graph :)\n",
    "\n",
    "Let's begin the first challenge! 🚀"
   ]
  },
  {
   "cell_type": "markdown",
   "metadata": {},
   "source": [
    "1️⃣ Let's start with our `apps_df`, where we have the free apps. Make a `violinplot` to see how ratings are distributed among free versus paid apps.\n",
    "\n",
    "<br>\n",
    "\n",
    "<details>\n",
    "    <summary>Not sure how? Click to see solution 🙈</summary>\n",
    "\n",
    "<pre>\n",
    "sns.violinplot(data=apps_df, x='Type', y='Rating')\n",
    "</pre>\n",
    "</details>"
   ]
  },
  {
   "cell_type": "code",
   "execution_count": null,
   "metadata": {
    "scrolled": true
   },
   "outputs": [],
   "source": [
    "# your code here"
   ]
  },
  {
   "cell_type": "markdown",
   "metadata": {},
   "source": [
    "❓What does the result tell you about app consumers attention to free/paid apps?"
   ]
  },
  {
   "cell_type": "markdown",
   "metadata": {},
   "source": [
    "-------"
   ]
  },
  {
   "cell_type": "markdown",
   "metadata": {},
   "source": [
    "2️⃣ Now let's make a `violinplot` of how the prices are distributed among apps from different content ratings! For this one, please use the `cheaper_apps_df` so that we avoid the free apps, which will skew our findings.\n",
    "\n",
    "<br>\n",
    "\n",
    "<details>\n",
    "    <summary>Not sure how? Click to see solution 🙈</summary>\n",
    "\n",
    "<pre>\n",
    "sns.violinplot(data=cheaper_apps_df, x='Content Rating', y='Price')\n",
    "</pre>\n",
    "<p>Notice how the average price grows as the age category grows. Makes sense right? :)</p>\n",
    "</details>"
   ]
  },
  {
   "cell_type": "code",
   "execution_count": null,
   "metadata": {
    "scrolled": true
   },
   "outputs": [],
   "source": [
    "# remember, you can adjust the figure size before every plot for readability\n",
    "plt.figure(figsize=(15, 6))\n",
    "\n",
    "# your code here"
   ]
  },
  {
   "cell_type": "markdown",
   "metadata": {},
   "source": [
    "-----"
   ]
  },
  {
   "cell_type": "markdown",
   "metadata": {},
   "source": [
    "#### We can add some more variety using a [Seaborn Catplot](https://seaborn.pydata.org/generated/seaborn.catplot.html) with different `kind` property - `violin`, `box`, `boxen`, `bar`. Try to run the cell below!"
   ]
  },
  {
   "cell_type": "code",
   "execution_count": null,
   "metadata": {},
   "outputs": [],
   "source": [
    "sns.catplot(data=apps_df, x='Content Rating', y='Rating', kind='boxen')"
   ]
  },
  {
   "cell_type": "markdown",
   "metadata": {},
   "source": [
    "Because `catplot` is a uniquely `seaborn` plot, it doesn't change size with the `plt.figure` code we were using before. To make it more readable, we instead simply add `aspect` as an attribute to our line of code above.\n",
    "\n",
    "For example, you can add `aspect=15/6` to your list of countplot attributes.\n",
    "\n",
    "<br>\n",
    "\n",
    "<details>\n",
    "    <summary>Not sure how? Click to see solution 🙈</summary>\n",
    "\n",
    "<pre>\n",
    "sns.catplot(data=apps_df, x='Content Rating', y='Rating', kind='boxen', aspect=15/6)\n",
    "</pre>\n",
    "</details>\n"
   ]
  },
  {
   "cell_type": "code",
   "execution_count": null,
   "metadata": {},
   "outputs": [],
   "source": [
    "# your code here"
   ]
  },
  {
   "cell_type": "markdown",
   "metadata": {},
   "source": [
    "Go ahead and try out the different kinds of `catplot` apart from `boxen`! And if you are looking for an extra challenge, we've got one."
   ]
  },
  {
   "cell_type": "code",
   "execution_count": null,
   "metadata": {},
   "outputs": [],
   "source": [
    "# your code here"
   ]
  },
  {
   "cell_type": "markdown",
   "metadata": {},
   "source": [
    "-----"
   ]
  },
  {
   "cell_type": "markdown",
   "metadata": {},
   "source": [
    "🏋️‍ **Optional: Adding an order**: We have dozens of app categories - too many to put in one plot - so let's analyse how the price is distributed among ten most popular categories.\n",
    "\n",
    "**Tip**: we have added orders in previous plots so do not hesitate to check your previous challenges! 🧐\n",
    "\n",
    "<br>\n",
    "\n",
    "<details>\n",
    "    <summary>Not sure how? Click to see solution 🙈</summary>\n",
    "\n",
    "<pre>\n",
    "order = cheaper_apps_df['Category'].value_counts().head(10).index\n",
    "sns.catplot(data=cheaper_apps_df, x='Category', y='Price', order=order, kind='boxen', aspect=18/6)\n",
    "</pre>\n",
    "<p>Make sure to think through each column. What does that data tell you?</p>\n",
    "</details>\n"
   ]
  },
  {
   "cell_type": "code",
   "execution_count": null,
   "metadata": {},
   "outputs": [],
   "source": [
    "# your code here"
   ]
  },
  {
   "cell_type": "markdown",
   "metadata": {},
   "source": [
    "-----"
   ]
  },
  {
   "cell_type": "markdown",
   "metadata": {},
   "source": [
    "### 🤓 Going further? Let's do some Correlation Analysis"
   ]
  },
  {
   "cell_type": "markdown",
   "metadata": {},
   "source": [
    "We don't really have a way to put Google Play data on a map like we did with AirBnB listings, but we still want you to explore some advanced visualizations we can do!"
   ]
  },
  {
   "cell_type": "markdown",
   "metadata": {},
   "source": [
    "----"
   ]
  },
  {
   "cell_type": "markdown",
   "metadata": {},
   "source": [
    "⚖️Let's jump into **[correlation](https://www.datasciencecentral.com/profiles/blogs/difference-between-correlation-and-regression-in-statistics)**, which is how we can check the relationship between numeric values."
   ]
  },
  {
   "cell_type": "markdown",
   "metadata": {},
   "source": [
    "Now let's go ahead and test our first correlation between the price and reviews of apps using [Seaborn Relplot](https://seaborn.pydata.org/generated/seaborn.relplot.html?highlight=relplot#seaborn.relplot). Remember to use `cheaper_apps_df` to get more insight, avoiding the free apps. Do you have any assumptions of what the relation could be? 🤔"
   ]
  },
  {
   "cell_type": "code",
   "execution_count": null,
   "metadata": {},
   "outputs": [],
   "source": [
    "with sns.axes_style(style=\"whitegrid\"):\n",
    "    sns.relplot(x=\"Price\", y=\"Reviews\", data=cheaper_apps_df, aspect=10/5)"
   ]
  },
  {
   "cell_type": "markdown",
   "metadata": {},
   "source": [
    "You'll notice that we have some outliers when it comes to `Reviews`, which prevents us from gathering insight through our `relplot`. Let's calculate the **mean** of `Reviews` in our DataFrame and change our `cheaper_apps_df` to contain apps with reasonable amount of reviews.\n",
    "\n",
    "<br>\n",
    "\n",
    "<details>\n",
    "    <summary>Not sure how? Click to see solution 🙈</summary>\n",
    "\n",
    "<pre>\n",
    "cheaper_apps_df['Reviews'].mean()\n",
    "reviews_condition = cheaper_apps_df['Reviews'] < 25000\n",
    "cheaper_apps_df = cheaper_apps_df[reviews_condition]\n",
    "</pre>\n",
    "</details>\n",
    "\n"
   ]
  },
  {
   "cell_type": "code",
   "execution_count": null,
   "metadata": {},
   "outputs": [],
   "source": [
    "# your code here"
   ]
  },
  {
   "cell_type": "markdown",
   "metadata": {
    "scrolled": true
   },
   "source": [
    "Now you are ready to try `relplot` again! Rerun the code cell where we made our first `relplot` or **rewrite the code below like a real hacker!**"
   ]
  },
  {
   "cell_type": "code",
   "execution_count": null,
   "metadata": {},
   "outputs": [],
   "source": [
    "# your code here"
   ]
  },
  {
   "cell_type": "markdown",
   "metadata": {},
   "source": [
    "-------"
   ]
  },
  {
   "cell_type": "markdown",
   "metadata": {},
   "source": [
    "You can start noticing there are some clusters in this Relplot. We have a better way of seeing them using a [`seaborn.jointplot`](https://seaborn.pydata.org/generated/seaborn.jointplot.html)."
   ]
  },
  {
   "cell_type": "code",
   "execution_count": null,
   "metadata": {},
   "outputs": [],
   "source": [
    "with sns.axes_style(\"whitegrid\"):\n",
    "    sns.jointplot(x=\"Price\", y=\"Reviews\", data=cheaper_apps_df, height=7, kind='hex')"
   ]
  },
  {
   "cell_type": "markdown",
   "metadata": {},
   "source": [
    "------"
   ]
  },
  {
   "cell_type": "markdown",
   "metadata": {},
   "source": [
    "🔍 The correlation is still not entirely clear though, is it? Let's use [`seaborn.lmplot`](https://seaborn.pydata.org/generated/seaborn.lmplot.html) to graphically read a linear correlation.\n",
    "\n",
    "The `lmplot` takes exactly the same **attributes** as the `relplot` you did a few lines ago. Give it a go!\n",
    "\n",
    "<br>\n",
    "\n",
    "<details>\n",
    "    <summary>Not sure how? Click to see solution 🙈</summary>\n",
    "\n",
    "<pre>\n",
    "sns.lmplot(x=\"Price\", y=\"Reviews\", data=cheaper_apps_df, aspect=12/5)\n",
    "</pre>\n",
    "</details>"
   ]
  },
  {
   "cell_type": "code",
   "execution_count": null,
   "metadata": {},
   "outputs": [],
   "source": [
    "# your code here"
   ]
  },
  {
   "cell_type": "markdown",
   "metadata": {},
   "source": [
    "The goal of today is not to do any Machine Learning, but hey! you just did your first **[Regression](https://www.datasciencecentral.com/profiles/blogs/difference-between-correlation-and-regression-in-statistics)** 🔥\n",
    "\n",
    "Following the graphical linear regression we just drew, we can predict new values based on existing data. 🔮\n",
    "\n",
    "We can see that the more expensive the app, the more reviews it will get! Most likely because when you pay for an app, you care enough to come back and give feedback. The blue line shows as that if we price our app at 10USD we are likely to get around 4000 reviews!"
   ]
  },
  {
   "cell_type": "markdown",
   "metadata": {},
   "source": [
    "🏋️‍ Now your challenge is the **check the correlation between `Reviews` and `Rating`**. Follow the same steps you did for the previous correlation and you totally got this! :)"
   ]
  },
  {
   "cell_type": "code",
   "execution_count": null,
   "metadata": {},
   "outputs": [],
   "source": [
    "# your code here"
   ]
  },
  {
   "cell_type": "markdown",
   "metadata": {},
   "source": [
    "--------"
   ]
  },
  {
   "cell_type": "markdown",
   "metadata": {},
   "source": [
    "## 🚀 Congrats on completing the challenges! You rock!\n",
    "\n",
    "If you want to build on top of what you learned today, check out these resources to continue your Python Data Visualization journey 🙌\n",
    "\n",
    "* [Different color pallets of Seaborn plots](https://seaborn.pydata.org/tutorial/color_palettes.html)\n",
    "* [Play around with Seaborn official tutorial data](https://seaborn.pydata.org/tutorial.html)\n",
    "* [How to customize your plots with custom labels, legends and more](https://hookedondata.org/better-plotting-in-python-with-seaborn/)"
   ]
  }
 ],
 "metadata": {
  "kernelspec": {
   "display_name": "Python 3",
   "language": "python",
   "name": "python3"
  },
  "language_info": {
   "codemirror_mode": {
    "name": "ipython",
    "version": 3
   },
   "file_extension": ".py",
   "mimetype": "text/x-python",
   "name": "python",
   "nbconvert_exporter": "python",
   "pygments_lexer": "ipython3",
   "version": "3.7.6"
  }
 },
 "nbformat": 4,
 "nbformat_minor": 4
}
