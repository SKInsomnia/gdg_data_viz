{
 "cells": [
  {
   "cell_type": "markdown",
   "metadata": {},
   "source": [
    "# Data Analytics Challenge - Startup Investments 🚀\n"
   ]
  },
  {
   "cell_type": "markdown",
   "metadata": {},
   "source": [
    "The goal of this challenge is to analyze a [dataset about startup investments from Crunchbase](https://www.kaggle.com/arindam235/startup-investments-crunchbase/data). Some cells are already implemented, you just need to **run** them. Some other cells need you to write some code.\n",
    "\n",
    "### Here is a quick guide on how to use this Jupyter Notebook 🤔\n",
    "\n",
    "* Type inside the empty cells to write code. These empty cells will have a `In [ ]:` prefix before\n",
    "* Press the `return/enter ⏎` key to add a new line inside the cell\n",
    "* To display your results use the Python built in `print(STUFF_YOU_WANT_TO_PRINT)` method or simply put the stuff you want to print as the last line inside the cell. The result of the last line will appear as the `Out[]:` or the output of the cell :)\n",
    "* Press `shift` + `return/enter ⏎` to run your code 🤓 this will run the code inside your currently selected cell and print anything inside `print()` method and the last line of your cell\n",
    "* To add a new cell, select any cell and press the `b` key (make sure you are not just typing the letter `b` in the cell). This will add a new cell below\n",
    "* To delete a cell, double press the `d` key (make sure you are not just typing the letter `d` in the cell)\n",
    "\n",
    "### Start the challenge by running the two following cells:"
   ]
  },
  {
   "cell_type": "code",
   "execution_count": null,
   "metadata": {},
   "outputs": [],
   "source": [
    "# we will need these libraries to run our analytics and visualisation\n",
    "import pandas as pd\n",
    "import seaborn as sns\n",
    "import matplotlib.pyplot as plt"
   ]
  },
  {
   "cell_type": "code",
   "execution_count": null,
   "metadata": {},
   "outputs": [],
   "source": [
    "# we will read the CSV file into a DataFrame - the format that we can easily analyze and manipulate\n",
    "# we cleaned up the data a little bit for you already (but just a little)\n",
    "investments_df = pd.read_csv(\"data/crunchbase_investment_data_LeWagonCleaned.csv\", decimal=\",\")"
   ]
  },
  {
   "cell_type": "markdown",
   "metadata": {},
   "source": [
    "### 👀 Feel free to have a quick glance at the data - `.shape`, `.columns`, `.head()`, `.tail()`, `.dtypes` \n",
    "<br>\n",
    "\n",
    "<details>\n",
    "    <summary>Not sure how? Reveal some tips 🙈</summary>\n",
    "\n",
    "<p> \n",
    "<pre>\n",
    "investments_df.shape\n",
    "investments_df.columns\n",
    "investments_df.head() # you can add a number in parentheses for how many first rows you want to display\n",
    "investments_df.dtypes\n",
    "</pre>\n",
    "</details>"
   ]
  },
  {
   "cell_type": "code",
   "execution_count": null,
   "metadata": {},
   "outputs": [],
   "source": [
    "# your code here"
   ]
  },
  {
   "cell_type": "markdown",
   "metadata": {},
   "source": [
    "### 🧹 You might have noticed, we still have some cleaning to do on our DataFrame "
   ]
  },
  {
   "cell_type": "markdown",
   "metadata": {},
   "source": [
    "First of all let's see how many empty values are there in our DataFrame using the [DataFrame.isnull() method](https://pandas.pydata.org/pandas-docs/stable/reference/api/pandas.DataFrame.isnull.html)\n",
    "\n",
    "<br>\n",
    "\n",
    "<details>\n",
    "    <summary>Not sure how? Click to see solution 🙈</summary>\n",
    "\n",
    "<p> \n",
    "<pre>\n",
    "investments_df.isnull().sum()\n",
    "</pre>\n",
    "</details>"
   ]
  },
  {
   "cell_type": "code",
   "execution_count": null,
   "metadata": {},
   "outputs": [],
   "source": [
    "# your code here"
   ]
  },
  {
   "cell_type": "markdown",
   "metadata": {},
   "source": [
    "Let's go ahead and drop some columns, that are particularly full of `nulls` or those that are too specific for our analysis.\n",
    "\n",
    "\n",
    "<br>\n",
    "\n",
    "<details>\n",
    "    <summary>Not sure how? Click to see solution 🙈</summary>\n",
    "\n",
    "\n",
    "<p>Now that we had a quick glance, let's drop the columns we won't use this time. As you can see, we have TMI 🤯</p>\n",
    "<pre>\n",
    "columns_to_drop = ['Unnamed: 0', 'state_code', 'city', 'region', 'founded_at', 'founded_month', 'founded_quarter', 'permalink', 'category_list', 'first_funding_at', 'last_funding_at']\n",
    "investments_df.drop(columns_to_drop, axis=\"columns\", inplace=True)\n",
    "</pre>\n",
    "</details>"
   ]
  },
  {
   "cell_type": "code",
   "execution_count": null,
   "metadata": {},
   "outputs": [],
   "source": [
    "# your code here"
   ]
  },
  {
   "cell_type": "markdown",
   "metadata": {},
   "source": [
    "Finally, let's clean up those last columns about different types of funding, which currently are showing up as `object`, or essentially a string. We will need to use the [Pandas series astype() method](https://pandas.pydata.org/pandas-docs/stable/reference/api/pandas.Series.astype.html?highlight=astype#pandas.Series.astype) to turn those funding sums into floats.\n",
    "\n",
    "<br>\n",
    "\n",
    "<details>\n",
    "    <summary>Not sure how? Click to see solution 🙈</summary>\n",
    "\n",
    "<p> \n",
    "<pre>\n",
    "investments_df['seed'] = investments_df['seed'].astype(float)\n",
    "investments_df['angel'] = investments_df['angel'].astype(float)\n",
    "investments_df['venture'] = investments_df['venture'].astype(float)\n",
    "investments_df['round_A'] = investments_df['round_A'].astype(float)\n",
    "investments_df['round_B'] = investments_df['round_B'].astype(float)\n",
    "investments_df['round_C'] = investments_df['round_C'].astype(float)\n",
    "</pre>\n",
    "</details>"
   ]
  },
  {
   "cell_type": "code",
   "execution_count": null,
   "metadata": {},
   "outputs": [],
   "source": [
    "# your code here"
   ]
  },
  {
   "cell_type": "markdown",
   "metadata": {},
   "source": [
    "### ✨Our DataFrame is now clean and ready for us to explore"
   ]
  },
  {
   "cell_type": "markdown",
   "metadata": {},
   "source": [
    "Curious to check your favorite startup? 💡You can do that using `investments_df[investments_df['name'].str.contains('COMPANY NAME')]`"
   ]
  },
  {
   "cell_type": "markdown",
   "metadata": {},
   "source": [
    "#### Let's start with few quick [Exploratory Data Analysis](https://en.wikipedia.org/wiki/Exploratory_data_analysis) questions 🤔"
   ]
  },
  {
   "cell_type": "markdown",
   "metadata": {},
   "source": [
    "❓What are the top 10 funded startups in our DataFrame?\n",
    "\n",
    "\n",
    "<br>\n",
    "\n",
    "<details>\n",
    "    <summary>Not sure how? Click to see solution 🙈</summary>\n",
    "\n",
    "<p> \n",
    "<pre>\n",
    "investments_df.nlargest(10, 'funding_total_usd')\n",
    "</pre>\n",
    "<p>P.S. you can run the line below if you don't like looking at exponents</p>\n",
    "<pre>\n",
    "pd.options.display.float_format = '{:20,.2f}'.format\n",
    "</pre>\n",
    "</details>"
   ]
  },
  {
   "cell_type": "code",
   "execution_count": null,
   "metadata": {},
   "outputs": [],
   "source": [
    "# your code here"
   ]
  },
  {
   "cell_type": "markdown",
   "metadata": {},
   "source": [
    "❓What are the different statuses of startups?\n",
    "\n",
    "\n",
    "<br>\n",
    "\n",
    "<details>\n",
    "    <summary>Not sure how? Click to see solution 🙈</summary>\n",
    "\n",
    "<p> \n",
    "<pre>\n",
    "investments_df['status'].unique()\n",
    "</pre>\n",
    "</details>"
   ]
  },
  {
   "cell_type": "code",
   "execution_count": null,
   "metadata": {},
   "outputs": [],
   "source": [
    "# your code here"
   ]
  },
  {
   "cell_type": "markdown",
   "metadata": {},
   "source": [
    "❓What are the 10 countries with most startups represented? Do you notice some potential bias in our data?\n",
    "\n",
    "\n",
    "<br>\n",
    "\n",
    "<details>\n",
    "    <summary>Not sure how? Click to see solution 🙈</summary>\n",
    "\n",
    "<p> \n",
    "<pre>\n",
    "investments_df['country_code'].value_counts().head(10)\n",
    "</pre>\n",
    "</details>"
   ]
  },
  {
   "cell_type": "code",
   "execution_count": null,
   "metadata": {},
   "outputs": [],
   "source": [
    "# your code here"
   ]
  },
  {
   "cell_type": "markdown",
   "metadata": {},
   "source": [
    "❓What are your assumptions about the markets with most startups in recent decades? See if you are right!\n",
    "\n",
    "\n",
    "<br>\n",
    "\n",
    "<details>\n",
    "    <summary>Not sure how? Click to see solution 🙈</summary>\n",
    "\n",
    "<p> \n",
    "<pre>\n",
    "investments_df['market'].value_counts().head()\n",
    "</pre>\n",
    "</details>"
   ]
  },
  {
   "cell_type": "code",
   "execution_count": null,
   "metadata": {},
   "outputs": [],
   "source": [
    "# your code here"
   ]
  },
  {
   "cell_type": "markdown",
   "metadata": {},
   "source": [
    "🏋️‍**Optional: Adding Boolean Analysis**: how many startups were underfunded? Let's say that means they received less than $1 million in investment\n",
    "\n",
    "\n",
    "<br>\n",
    "\n",
    "<details>\n",
    "    <summary>Not sure how? Click to see solution 🙈</summary>\n",
    "\n",
    "<p> \n",
    "<pre>\n",
    "underfunded = investments_df['funding_total_usd'] < 1000000\n",
    "investments_df[underfunded] # this way we get a DataFrame of underfunded startups\n",
    "len(investments_df[underfunded]) # to get the number\n",
    "</pre>\n",
    "</details>"
   ]
  },
  {
   "cell_type": "code",
   "execution_count": null,
   "metadata": {},
   "outputs": [],
   "source": [
    "# your code here"
   ]
  },
  {
   "cell_type": "markdown",
   "metadata": {},
   "source": [
    "-------"
   ]
  },
  {
   "cell_type": "markdown",
   "metadata": {},
   "source": [
    "### 🎨 Let's start visualizing - `CountPlot` for making quick bar charts"
   ]
  },
  {
   "cell_type": "markdown",
   "metadata": {},
   "source": [
    "For our first visualisations we will be using the [Seaborn Countplot](https://seaborn.pydata.org/generated/seaborn.countplot.html). \n",
    "\n",
    "Countplot is great for counting the occurence of the unique values in each column. For example, we used it for knowing how many of each apartment type are there in the AirBnB listings and even how many different types are there, without us running any extra code."
   ]
  },
  {
   "cell_type": "markdown",
   "metadata": {},
   "source": [
    "#### Let's begin! 📊"
   ]
  },
  {
   "cell_type": "markdown",
   "metadata": {},
   "source": [
    "1️⃣Make a countplot with the different statuses of startups\n",
    "\n",
    "P.S. remember the different methods you can use to explore your DataFrame - `.columns`, `.head()` and others - in case you are not sure which data points to use ;)\n",
    "\n",
    "\n",
    "<br>\n",
    "\n",
    "<details>\n",
    "    <summary>Not sure how? Click to see solution 🙈</summary>\n",
    "\n",
    "<p> \n",
    "<pre>\n",
    "sns.countplot(data=investments_df, x='status')\n",
    "</pre>\n",
    "</details>"
   ]
  },
  {
   "cell_type": "code",
   "execution_count": null,
   "metadata": {},
   "outputs": [],
   "source": [
    "# by the way, you can add this line *before each* plot that let's you adjust the (width, height) of the chart:\n",
    "plt.figure(figsize=(10, 6))\n",
    "\n",
    "# your code here"
   ]
  },
  {
   "cell_type": "markdown",
   "metadata": {},
   "source": [
    "--------"
   ]
  },
  {
   "cell_type": "markdown",
   "metadata": {},
   "source": [
    "2️⃣Let's count how many startups were founded in each year. What's the best order to sort here?\n",
    "\n",
    "<br>\n",
    "\n",
    "<details>\n",
    "    <summary>Not sure how? Click to see solution 🙈</summary>\n",
    "\n",
    "<p> \n",
    "<pre>\n",
    "sns.countplot(data=investments_df, x='founded_year')\n",
    "</pre>\n",
    "</details>"
   ]
  },
  {
   "cell_type": "code",
   "execution_count": null,
   "metadata": {},
   "outputs": [],
   "source": [
    "# remember, you can add this line *before each* plot that let's you adjust the (width, height) of the chart:\n",
    "plt.figure(figsize=(10, 6))\n",
    "\n",
    "# your code here"
   ]
  },
  {
   "cell_type": "markdown",
   "metadata": {},
   "source": [
    "-------------"
   ]
  },
  {
   "cell_type": "markdown",
   "metadata": {},
   "source": [
    "3️⃣**Adding a hue**: let's add a `hue` attribute to our Countplot. For example like this `sns.countplot(data=investments_df, x='founded_year', hue='funding_rounds')`. What does that do? Try running the cell below!"
   ]
  },
  {
   "cell_type": "code",
   "execution_count": null,
   "metadata": {},
   "outputs": [],
   "source": [
    "# remember that you can change the size of each plot; this will be helpful as our Data Visualization goes deeper\n",
    "plt.figure(figsize=(10, 6))\n",
    "sns.countplot(data=investments_df, x='founded_year', hue='funding_rounds')"
   ]
  },
  {
   "cell_type": "markdown",
   "metadata": {},
   "source": [
    "What other column would be good to use with `hue`? 🤔"
   ]
  },
  {
   "cell_type": "code",
   "execution_count": null,
   "metadata": {},
   "outputs": [],
   "source": [
    "# your code here"
   ]
  },
  {
   "cell_type": "markdown",
   "metadata": {},
   "source": [
    "---------------"
   ]
  },
  {
   "cell_type": "markdown",
   "metadata": {},
   "source": [
    "🏋️‍ **Optional: Adding an order**: let's add a `order` attribute to our Countplot so that we can control the order of bars in our chart, as well as how many are displayed. The syntax looks like this `sns.countplot(data=investments_df, x='founded_year', order=❓)`. First let's figure out how we get the order!"
   ]
  },
  {
   "cell_type": "markdown",
   "metadata": {},
   "source": [
    "Do you remember how you got the countries or markets with most startups?\n",
    "\n",
    "`investments_df['market'].value_counts().head(5)` for example will give us a list of five markets with most startups.\n",
    "\n",
    "If we want to capture the **order** of this list we need to add the `.index` in the end, so that we store the index (or position) of each market in the list.\n",
    "\n",
    "`investments_df['market'].value_counts().head(5).index`\n",
    "\n",
    "Feel free to give it a try!"
   ]
  },
  {
   "cell_type": "code",
   "execution_count": null,
   "metadata": {},
   "outputs": [],
   "source": [
    "order = investments_df['market'].value_counts().head(5).index\n",
    "sns.countplot(data=investments_df, x='market', order=order)"
   ]
  },
  {
   "cell_type": "markdown",
   "metadata": {},
   "source": [
    "Now your goal is to make a Countplot of the 10 countries with most startups, in a descending order. Then try to do the same with top 10 markets!\n",
    "\n",
    "\n",
    "<br>\n",
    "\n",
    "<details>\n",
    "    <summary>Not sure how? Click to see solution 🙈</summary>\n",
    "\n",
    "<p>Tip: don't try to put everything on the same line if it's getting too long. Your code should be easy to read for you and others.</p>\n",
    "<pre>\n",
    "top_10_countries = investments_df['country_code'].value_counts().head(10)\n",
    "order = top_10_countries.index\n",
    "sns.countplot(data=investments_df, x='country_code', order=order)\n",
    "</pre>\n",
    "<p>Try to recreate the same countplot of top 10 markets using the code above! You got this 😉</p>\n",
    "</details>"
   ]
  },
  {
   "cell_type": "code",
   "execution_count": null,
   "metadata": {},
   "outputs": [],
   "source": [
    "# your code here"
   ]
  },
  {
   "cell_type": "markdown",
   "metadata": {},
   "source": [
    "---------"
   ]
  },
  {
   "cell_type": "markdown",
   "metadata": {},
   "source": [
    "### 🎨 Next step -  `Distplot` - a quick way to make [histograms](https://www.mathsisfun.com/data/histograms.html)"
   ]
  },
  {
   "cell_type": "markdown",
   "metadata": {},
   "source": [
    "The [Seaborn Distplot](https://seaborn.pydata.org/generated/seaborn.distplot.html) is useful for seeing how non-repetative values are distributed. This chart is particularly useful for understanding distribution of numeric values (for example, the price in our AirBnB data) or other data points which do not have standard values. Try running the cell below to make our first Distplot with the total funding figures!"
   ]
  },
  {
   "cell_type": "code",
   "execution_count": null,
   "metadata": {},
   "outputs": [],
   "source": [
    "sns.distplot(investments_df['funding_total_usd'])"
   ]
  },
  {
   "cell_type": "markdown",
   "metadata": {},
   "source": [
    "You'll notice that, same as with our AirBnB data, we have outliers that heavily skew the data. A good measure would be to check the [mean](https://pandas.pydata.org/pandas-docs/stable/reference/api/pandas.DataFrame.mean.html) of the columns in question and double that, removing anything beyond that number.\n",
    "\n",
    "Let's try with `funding_total_usd`!"
   ]
  },
  {
   "cell_type": "code",
   "execution_count": null,
   "metadata": {},
   "outputs": [],
   "source": [
    "investments_df['funding_total_usd'].mean()"
   ]
  },
  {
   "cell_type": "code",
   "execution_count": null,
   "metadata": {},
   "outputs": [],
   "source": [
    "funding_total_normalized = investments_df[investments_df['funding_total_usd'] < 22_000_000] # this is just another way to write numbers to make the amount of zeroes more visible\n",
    "plt.figure(figsize=(10,5))\n",
    "sns.distplot(funding_total_normalized['funding_total_usd'])"
   ]
  },
  {
   "cell_type": "markdown",
   "metadata": {},
   "source": [
    "In some other cases, you'll notice we have a lot of '0' values in a column. So even if the mean looks good, we can also check the [median](https://pandas.pydata.org/pandas-docs/stable/reference/api/pandas.DataFrame.median.html) to see the truth 😱"
   ]
  },
  {
   "cell_type": "code",
   "execution_count": null,
   "metadata": {},
   "outputs": [],
   "source": [
    "print(investments_df['seed'].mean())\n",
    "print(investments_df['seed'].median())"
   ]
  },
  {
   "cell_type": "markdown",
   "metadata": {},
   "source": [
    "In a case like that, we might just want to get rid of the 0 values, and focus on those present to get more significant insight."
   ]
  },
  {
   "cell_type": "code",
   "execution_count": null,
   "metadata": {},
   "outputs": [],
   "source": [
    "startups_with_seed = investments_df[investments_df['seed'] > 0]\n",
    "sns.distplot(startups_with_seed['seed'])"
   ]
  },
  {
   "cell_type": "markdown",
   "metadata": {},
   "source": [
    "❓You notice in the histogram that columns variate between taller and shorter ones. What could be the explanation for those?"
   ]
  },
  {
   "cell_type": "markdown",
   "metadata": {},
   "source": [
    "Try out your own Distplots by changing the columns! `angel`, `seed`, `venture` can be good options!"
   ]
  },
  {
   "cell_type": "code",
   "execution_count": null,
   "metadata": {},
   "outputs": [],
   "source": [
    "# your code here"
   ]
  },
  {
   "cell_type": "markdown",
   "metadata": {},
   "source": [
    "-----"
   ]
  },
  {
   "cell_type": "markdown",
   "metadata": {},
   "source": [
    "### 🎨 Onto to the `ViolinPlot` - a chart for analysing grouped distribution"
   ]
  },
  {
   "cell_type": "markdown",
   "metadata": {},
   "source": [
    "We want to use the [Seaborn Violinplot](https://seaborn.pydata.org/generated/seaborn.violinplot.html) when we want to see distribution not only across our general DataFrame, but grouped by a category column (for example, prices by apartment type on AirBnB). This is useful for understanding the effect of different factors on a datapoint in question.\n",
    "\n",
    "The typical syntax for a Violinplot is `sns.violinplot(data=❓, x=❓, y=❓)`. For `data` we suggest using the `funding_total_normalized` DataFrame, so that we have a more fairly distributed graph :)\n",
    "\n",
    "Let's begin the first challenge! 🚀"
   ]
  },
  {
   "cell_type": "markdown",
   "metadata": {},
   "source": [
    "1️⃣ Let's start with seeing if total funding is distributed differently depending on whether a startup is operating / acquired / closed! 🤔\n",
    "\n",
    "<br>\n",
    "\n",
    "<details>\n",
    "    <summary>Not sure how? Click to see solution 🙈</summary>\n",
    "\n",
    "<pre>\n",
    "sns.violinplot(data=funding_total_normalized, x='status', y='funding_total_usd')\n",
    "</pre>\n",
    "</details>"
   ]
  },
  {
   "cell_type": "code",
   "execution_count": null,
   "metadata": {
    "scrolled": true
   },
   "outputs": [],
   "source": [
    "# your code here"
   ]
  },
  {
   "cell_type": "markdown",
   "metadata": {},
   "source": [
    "❓Notice a slight distinction between startups that are operating/closed and the ones that were acquired?"
   ]
  },
  {
   "cell_type": "markdown",
   "metadata": {},
   "source": [
    "-------"
   ]
  },
  {
   "cell_type": "markdown",
   "metadata": {},
   "source": [
    "2️⃣ Now let's make a Violinplot of the total startup funding distribution for each year. Do you notice how a certain historic event affected startup funding?\n",
    "\n",
    "<br>\n",
    "\n",
    "<details>\n",
    "    <summary>Not sure how? Click to see solution 🙈</summary>\n",
    "\n",
    "<pre>\n",
    "sns.violinplot(data=funding_total_normalized, x='founded_year', y='funding_total_usd')\n",
    "</pre>\n",
    "<p>Notice the difference between the violin shapes between 2001-2008 and 2009-2013. Hmm, did something happen in 2008? 📉</p>\n",
    "</details>"
   ]
  },
  {
   "cell_type": "code",
   "execution_count": null,
   "metadata": {
    "scrolled": true
   },
   "outputs": [],
   "source": [
    "# remember, you can adjust the figure size before every plot for readability\n",
    "plt.figure(figsize=(15, 6))\n",
    "\n",
    "# your code here"
   ]
  },
  {
   "cell_type": "markdown",
   "metadata": {},
   "source": [
    "-----"
   ]
  },
  {
   "cell_type": "markdown",
   "metadata": {},
   "source": [
    "#### We can add some more variety using a [Seaborn Catplot](https://seaborn.pydata.org/generated/seaborn.catplot.html) with different `kind` property - `violin`, `box`, `boxen`, `bar`. Try to run the cell below!"
   ]
  },
  {
   "cell_type": "code",
   "execution_count": null,
   "metadata": {},
   "outputs": [],
   "source": [
    "sns.catplot(data=funding_total_normalized, x='founded_year', y='funding_total_usd', kind='boxen')"
   ]
  },
  {
   "cell_type": "markdown",
   "metadata": {},
   "source": [
    "Because `catplot` is a uniquely `seaborn` plot, it doesn't change size with the `plt.figure` code we were using before. To make it more readable, we instead simply add the `height` and `aspect` as more attributes to our line of code above.\n",
    "\n",
    "For example, you can add `height=6, aspect=15/6` to your list of countplot attributes.\n",
    "\n",
    "<br>\n",
    "\n",
    "<details>\n",
    "    <summary>Not sure how? Click to see solution 🙈</summary>\n",
    "\n",
    "<pre>\n",
    "sns.catplot(data=funding_total_normalized, x='founded_year', y='funding_total_usd', kind='boxen', height=6, aspect=15/6)\n",
    "</pre>\n",
    "</details>\n"
   ]
  },
  {
   "cell_type": "code",
   "execution_count": null,
   "metadata": {},
   "outputs": [],
   "source": [
    "# your code here"
   ]
  },
  {
   "cell_type": "markdown",
   "metadata": {},
   "source": [
    "Go ahead and try out the different kinds of `catplot` apart from `boxen`! And if you are looking for an extra challenge, we've got one."
   ]
  },
  {
   "cell_type": "markdown",
   "metadata": {},
   "source": [
    "-----"
   ]
  },
  {
   "cell_type": "markdown",
   "metadata": {},
   "source": [
    "🏋️‍ **Optional: Adding an order**: We have hundreds of markets and countries where startups participate, but let's make a Catplot or Violinplot of the distribution of total funding over the most present markets or countries.\n",
    "\n",
    "**Tip**: we have added orders in previous plots so do not hesitate to check your previous challenges! 🧐\n",
    "\n",
    "<br>\n",
    "\n",
    "<details>\n",
    "    <summary>Not sure how? Click to see solution 🙈</summary>\n",
    "\n",
    "<pre>\n",
    "order = funding_total_normalized['market'].value_counts().head(10).index\n",
    "sns.catplot(data=funding_total_normalized, x='market', y='funding_total_usd', order=order, kind='boxen', height=6, aspect=15/6)\n",
    "</pre>\n",
    "<p>You can replace 'market' with 'country_code' if you are going for top 10 countries</p>\n",
    "</details>\n"
   ]
  },
  {
   "cell_type": "code",
   "execution_count": null,
   "metadata": {},
   "outputs": [],
   "source": [
    "# your code here"
   ]
  },
  {
   "cell_type": "markdown",
   "metadata": {},
   "source": [
    "-----"
   ]
  },
  {
   "cell_type": "markdown",
   "metadata": {},
   "source": [
    "### 🤓 Going further? Let's do some Correlation Analysis"
   ]
  },
  {
   "cell_type": "markdown",
   "metadata": {},
   "source": [
    "We don't really have a way to put this Crunchbase data on a map like we did with AirBnB listings (unless you are willing to map the country codes to longitude and latitude, you beast! 😮), but we still want you to explore some advanced visualizations we can do!"
   ]
  },
  {
   "cell_type": "markdown",
   "metadata": {},
   "source": [
    "----"
   ]
  },
  {
   "cell_type": "markdown",
   "metadata": {},
   "source": [
    "⚖️Before we jump into **[correlation](https://www.datasciencecentral.com/profiles/blogs/difference-between-correlation-and-regression-in-statistics)** we will need to standardize our data a bit more. For example, we will not see meaningful correlation between startups' angel and seed funding if some only received one of those."
   ]
  },
  {
   "cell_type": "markdown",
   "metadata": {},
   "source": [
    "Go ahead and run the cell below. You will see we are creating two new variables - one for startups with both angel and seed investment, and another for startups with all three rounds of investment. This will help us make more sense from the graphs we are about to see! 🔍"
   ]
  },
  {
   "cell_type": "code",
   "execution_count": null,
   "metadata": {},
   "outputs": [],
   "source": [
    "startups_with_seed_and_angel = funding_total_normalized.query('seed > 0 & angel > 0')\n",
    "startups_with_all_rounds =  funding_total_normalized.query('round_A > 0 & round_B > 0 & round_C > 0')"
   ]
  },
  {
   "cell_type": "markdown",
   "metadata": {},
   "source": [
    "-----"
   ]
  },
  {
   "cell_type": "markdown",
   "metadata": {},
   "source": [
    "Now let's go ahead and test our first correlation between angel and seed investments using a [Seaborn Relplot](https://seaborn.pydata.org/generated/seaborn.relplot.html?highlight=relplot#seaborn.relplot). Do you have any assumptions of what the relation could be? 🤔"
   ]
  },
  {
   "cell_type": "code",
   "execution_count": null,
   "metadata": {
    "scrolled": true
   },
   "outputs": [],
   "source": [
    "with sns.axes_style(style=\"whitegrid\"):\n",
    "    sns.relplot(x=\"angel\", y=\"seed\", data=startups_with_seed_and_angel, height=5, aspect=10/5)"
   ]
  },
  {
   "cell_type": "markdown",
   "metadata": {},
   "source": [
    "-------"
   ]
  },
  {
   "cell_type": "markdown",
   "metadata": {},
   "source": [
    "You can start noticing there are some clusters in this Relplot. We have a better way of seeing them using a [`seaborn.jointplot`](https://seaborn.pydata.org/generated/seaborn.jointplot.html)."
   ]
  },
  {
   "cell_type": "code",
   "execution_count": null,
   "metadata": {},
   "outputs": [],
   "source": [
    "with sns.axes_style(\"white\"):\n",
    "    sns.jointplot(x=\"angel\", y=\"seed\", kind='hex', data=startups_with_seed_and_angel, height=6)"
   ]
  },
  {
   "cell_type": "markdown",
   "metadata": {},
   "source": [
    "------"
   ]
  },
  {
   "cell_type": "markdown",
   "metadata": {},
   "source": [
    "🔍 The correlation is still not entirely clear though, is it? Let's use [`seaborn.lmplot`](https://seaborn.pydata.org/generated/seaborn.lmplot.html) to graphically read a linear correlation."
   ]
  },
  {
   "cell_type": "code",
   "execution_count": null,
   "metadata": {},
   "outputs": [],
   "source": [
    "sns.lmplot(x=\"angel\", y=\"seed\", data=startups_with_seed_and_angel, height=5, aspect=10/5)"
   ]
  },
  {
   "cell_type": "markdown",
   "metadata": {},
   "source": [
    "The goal of today is not to do any Machine Learning, but hey! you just did your first **[Regression](https://www.datasciencecentral.com/profiles/blogs/difference-between-correlation-and-regression-in-statistics)** 🔥\n",
    "\n",
    "Following the graphical linear regression we just drew, we can predict new values based on existing data. 🔮"
   ]
  },
  {
   "cell_type": "markdown",
   "metadata": {},
   "source": [
    "You can go ahead and try replacing the values of `x`, `y` and `data` with other values! 🤓Remember, we also have `startups_with_seed_and_angel` and `startups_with_all_rounds` DataFrames that can be used as data!"
   ]
  },
  {
   "cell_type": "code",
   "execution_count": null,
   "metadata": {},
   "outputs": [],
   "source": [
    "# your code here"
   ]
  },
  {
   "cell_type": "markdown",
   "metadata": {},
   "source": [
    "--------"
   ]
  },
  {
   "cell_type": "markdown",
   "metadata": {},
   "source": [
    "We can also add a `col` attribute to our plot above, for example `col='status'`. Let's see what we get:"
   ]
  },
  {
   "cell_type": "code",
   "execution_count": null,
   "metadata": {
    "scrolled": true
   },
   "outputs": [],
   "source": [
    "sns.lmplot(x=\"venture\", y=\"funding_total_usd\", col=\"status\", data=funding_total_normalized)"
   ]
  },
  {
   "cell_type": "markdown",
   "metadata": {},
   "source": [
    "💥What we see is a very direct correlation between a startups ability to raise venture capital and other types of funding. And we can see how the data is skewed towards higher total funding in the startups that are still operating! 💪"
   ]
  },
  {
   "cell_type": "markdown",
   "metadata": {},
   "source": [
    "-------"
   ]
  },
  {
   "cell_type": "markdown",
   "metadata": {},
   "source": [
    "## 🚀 Congrats on completing the challenges! You rock!\n",
    "\n",
    "If you want to build on top of what you learned today, check out these resources to continue your Python Data Visualization journey 🙌\n",
    "\n",
    "* [Different color pallets of Seaborn plots](https://seaborn.pydata.org/tutorial/color_palettes.html)\n",
    "* [Play around with Seaborn official tutorial data](https://seaborn.pydata.org/tutorial.html)\n",
    "* [How to customize your plots with custom labels, legends and more](https://hookedondata.org/better-plotting-in-python-with-seaborn/)"
   ]
  }
 ],
 "metadata": {
  "kernelspec": {
   "display_name": "Python 3",
   "language": "python",
   "name": "python3"
  },
  "language_info": {
   "codemirror_mode": {
    "name": "ipython",
    "version": 3
   },
   "file_extension": ".py",
   "mimetype": "text/x-python",
   "name": "python",
   "nbconvert_exporter": "python",
   "pygments_lexer": "ipython3",
   "version": "3.7.6"
  }
 },
 "nbformat": 4,
 "nbformat_minor": 4
}
